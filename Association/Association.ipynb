{
 "cells": [
  {
   "cell_type": "markdown",
   "metadata": {},
   "source": [
    "# Association mining using Apriori"
   ]
  },
  {
   "cell_type": "code",
   "execution_count": 186,
   "metadata": {},
   "outputs": [],
   "source": [
    "import numpy as np\n",
    "import pandas as pd\n",
    "import matplotlib.pyplot as plt\n",
    "from itertools import combinations\n",
    "\n",
    "%matplotlib inline"
   ]
  },
  {
   "cell_type": "code",
   "execution_count": 187,
   "metadata": {},
   "outputs": [],
   "source": [
    "df = pd.read_csv(\"./dataset.csv\")"
   ]
  },
  {
   "cell_type": "code",
   "execution_count": 188,
   "metadata": {},
   "outputs": [
    {
     "data": {
      "text/html": [
       "<div>\n",
       "<style scoped>\n",
       "    .dataframe tbody tr th:only-of-type {\n",
       "        vertical-align: middle;\n",
       "    }\n",
       "\n",
       "    .dataframe tbody tr th {\n",
       "        vertical-align: top;\n",
       "    }\n",
       "\n",
       "    .dataframe thead th {\n",
       "        text-align: right;\n",
       "    }\n",
       "</style>\n",
       "<table border=\"1\" class=\"dataframe\">\n",
       "  <thead>\n",
       "    <tr style=\"text-align: right;\">\n",
       "      <th></th>\n",
       "      <th>TID</th>\n",
       "      <th>List</th>\n",
       "    </tr>\n",
       "  </thead>\n",
       "  <tbody>\n",
       "    <tr>\n",
       "      <th>0</th>\n",
       "      <td>T100</td>\n",
       "      <td>I1, I2, I5</td>\n",
       "    </tr>\n",
       "    <tr>\n",
       "      <th>1</th>\n",
       "      <td>T200</td>\n",
       "      <td>I2, I4</td>\n",
       "    </tr>\n",
       "    <tr>\n",
       "      <th>2</th>\n",
       "      <td>T300</td>\n",
       "      <td>I2, I3</td>\n",
       "    </tr>\n",
       "    <tr>\n",
       "      <th>3</th>\n",
       "      <td>T400</td>\n",
       "      <td>I1, I2, I4</td>\n",
       "    </tr>\n",
       "    <tr>\n",
       "      <th>4</th>\n",
       "      <td>T500</td>\n",
       "      <td>I1, I3</td>\n",
       "    </tr>\n",
       "  </tbody>\n",
       "</table>\n",
       "</div>"
      ],
      "text/plain": [
       "    TID        List\n",
       "0  T100  I1, I2, I5\n",
       "1  T200      I2, I4\n",
       "2  T300      I2, I3\n",
       "3  T400  I1, I2, I4\n",
       "4  T500      I1, I3"
      ]
     },
     "execution_count": 188,
     "metadata": {},
     "output_type": "execute_result"
    }
   ],
   "source": [
    "df.head()"
   ]
  },
  {
   "cell_type": "code",
   "execution_count": 189,
   "metadata": {},
   "outputs": [],
   "source": [
    "def convertToOnehot(df, col):\n",
    "    return df.join(df[col].str.get_dummies(\", \")).drop([\"List\"], axis=1)"
   ]
  },
  {
   "cell_type": "code",
   "execution_count": 200,
   "metadata": {},
   "outputs": [],
   "source": [
    "def getCount(df, col):\n",
    "    return len(df.loc[df[col] == 1])"
   ]
  },
  {
   "cell_type": "code",
   "execution_count": 191,
   "metadata": {},
   "outputs": [],
   "source": [
    "def combineCols(df, col1, col2):\n",
    "    return (df[col1] & df[col2])"
   ]
  },
  {
   "cell_type": "code",
   "execution_count": 192,
   "metadata": {},
   "outputs": [],
   "source": [
    "def checkForCombinations(combList, combTuple, r):\n",
    "    isPresent = True\n",
    "    for comb in combinations(combTuple, r):\n",
    "        if comb not in combList:\n",
    "            isPresent = False\n",
    "            break\n",
    "    return isPresent"
   ]
  },
  {
   "cell_type": "code",
   "execution_count": 209,
   "metadata": {},
   "outputs": [],
   "source": [
    "def apriori(df, col, s_count):\n",
    "    df = pd.DataFrame(df[col])\n",
    "    df = convertToOnehot(df, col)\n",
    "    items = df.columns\n",
    "    countDf = df.sum()\n",
    "    countDict = countDf.loc[countDf >= s_count].to_dict()\n",
    "    items = list(countDict.keys())\n",
    "    combHist = []\n",
    "    combPrev = list(combinations(items, 1))\n",
    "    combNext = []\n",
    "    for i in range(2, len(items) - 1):\n",
    "        for comb in combinations(items, i):\n",
    "            if checkForCombinations(combPrev, comb, (i-1)):\n",
    "                combProp = \"_\".join(str(c) for c in comb)\n",
    "                col1 = \"_\".join(str(c) for c in comb[:-1])\n",
    "                col2 = str(comb[-1])\n",
    "                df[combProp] = combineCols(df, col1, col2)\n",
    "                countTemp = getCount(df, combProp)\n",
    "                if countTemp >= s_count:\n",
    "                    combNext.append(comb)\n",
    "                    countDict[combProp] = getCount(df, combProp)\n",
    "        combHist.append(combPrev)\n",
    "        combPrev = combNext\n",
    "    return countDict"
   ]
  },
  {
   "cell_type": "code",
   "execution_count": 224,
   "metadata": {},
   "outputs": [],
   "source": [
    "def getConfidence(items_given, support_item, countDict):\n",
    "    items_given_str = \"_\".join(items_given)\n",
    "    item_support = \"_\".join([items_given_str, support_item])\n",
    "    items = list(countDict.keys())\n",
    "    if (items_given_str not in items) or (item_support not in items):\n",
    "        return 0\n",
    "    else:\n",
    "        return (countDict[item_support]/ countDict[items_given_str])"
   ]
  },
  {
   "cell_type": "code",
   "execution_count": 225,
   "metadata": {},
   "outputs": [
    {
     "data": {
      "text/plain": [
       "0.5"
      ]
     },
     "execution_count": 225,
     "metadata": {},
     "output_type": "execute_result"
    }
   ],
   "source": [
    "countDict = apriori(df, 'List', 2)\n",
    "getConfidence([\"I1\", \"I2\"], \"I3\", countDict)"
   ]
  },
  {
   "cell_type": "code",
   "execution_count": 217,
   "metadata": {},
   "outputs": [
    {
     "data": {
      "text/plain": [
       "{'I1': 6,\n",
       " 'I1_I2': 4,\n",
       " 'I1_I2_I3': 2,\n",
       " 'I1_I2_I5': 2,\n",
       " 'I1_I3': 4,\n",
       " 'I1_I5': 2,\n",
       " 'I2': 7,\n",
       " 'I2_I3': 4,\n",
       " 'I2_I4': 2,\n",
       " 'I2_I5': 2,\n",
       " 'I3': 6,\n",
       " 'I4': 2,\n",
       " 'I5': 2}"
      ]
     },
     "execution_count": 217,
     "metadata": {},
     "output_type": "execute_result"
    }
   ],
   "source": [
    "countDict"
   ]
  },
  {
   "cell_type": "code",
   "execution_count": null,
   "metadata": {},
   "outputs": [],
   "source": []
  }
 ],
 "metadata": {
  "kernelspec": {
   "display_name": "Python 3",
   "language": "python",
   "name": "python3"
  },
  "language_info": {
   "codemirror_mode": {
    "name": "ipython",
    "version": 3
   },
   "file_extension": ".py",
   "mimetype": "text/x-python",
   "name": "python",
   "nbconvert_exporter": "python",
   "pygments_lexer": "ipython3",
   "version": "3.6.4"
  }
 },
 "nbformat": 4,
 "nbformat_minor": 2
}
